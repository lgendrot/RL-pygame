{
 "cells": [
  {
   "cell_type": "code",
   "execution_count": 37,
   "metadata": {},
   "outputs": [],
   "source": [
    "import os\n",
    "from os import path\n",
    "from collections import defaultdict"
   ]
  },
  {
   "cell_type": "code",
   "execution_count": 63,
   "metadata": {},
   "outputs": [],
   "source": []
  },
  {
   "cell_type": "raw",
   "metadata": {},
   "source": [
    "class AnimationImages:\n",
    "    def __init__(self, base_dir, name=\"player\"):\n",
    "        self.base_dir = base_dir\n",
    "        self.images = self.build_dictionary()\n",
    "        \n",
    "    def build_dictionary(self):\n",
    "        \"\"\"Rather convoluted method to build a dictionary of animation images,\n",
    "        expects the structure of the base directory to be action/action_direction_index.png\n",
    "        \n",
    "        output: self.images[action][direction] = [file1, file2, file3]\n",
    "        \"\"\"\n",
    "        with os.scandir(self.base_dir) as entries:\n",
    "            image_dict = {}\n",
    "            for entry in entries:\n",
    "                if entry.is_dir():\n",
    "                    image_dict[entry.name] = {}\n",
    "                    for file in os.scandir(entry.path):\n",
    "                        if file.is_file() and file.name.endswith(\".png\"):\n",
    "                            name = file.name.split(\".\")[0]\n",
    "                            action, direction, index = name.split(\"_\")\n",
    "                            if not image_dict[entry.name].get(direction, False):\n",
    "                                image_dict[entry.name][direction] = []\n",
    "                            image_dict[entry.name][direction].append(file)\n",
    "        return image_dict\n",
    "\n",
    "    \n"
   ]
  },
  {
   "cell_type": "code",
   "execution_count": 105,
   "metadata": {},
   "outputs": [],
   "source": []
  },
  {
   "cell_type": "code",
   "execution_count": 108,
   "metadata": {},
   "outputs": [
    {
     "data": {
      "text/plain": [
       "[<DirEntry 'walk_forward_1.png'>,\n",
       " <DirEntry 'walk_forward_2.png'>,\n",
       " <DirEntry 'walk_forward_3.png'>]"
      ]
     },
     "execution_count": 108,
     "metadata": {},
     "output_type": "execute_result"
    }
   ],
   "source": []
  },
  {
   "cell_type": "code",
   "execution_count": null,
   "metadata": {},
   "outputs": [],
   "source": []
  }
 ],
 "metadata": {
  "kernelspec": {
   "display_name": "Python 3",
   "language": "python",
   "name": "python3"
  },
  "language_info": {
   "codemirror_mode": {
    "name": "ipython",
    "version": 3
   },
   "file_extension": ".py",
   "mimetype": "text/x-python",
   "name": "python",
   "nbconvert_exporter": "python",
   "pygments_lexer": "ipython3",
   "version": "3.6.10"
  }
 },
 "nbformat": 4,
 "nbformat_minor": 4
}
